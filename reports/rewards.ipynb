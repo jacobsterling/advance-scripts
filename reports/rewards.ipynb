{
 "cells": [
  {
   "attachments": {},
   "cell_type": "markdown",
   "metadata": {},
   "source": [
    "Imports"
   ]
  },
  {
   "cell_type": "code",
   "execution_count": 88,
   "metadata": {},
   "outputs": [],
   "source": [
    "import pandas as pd\n",
    "from pathlib import Path\n",
    "import math"
   ]
  },
  {
   "attachments": {},
   "cell_type": "markdown",
   "metadata": {},
   "source": [
    "Read Data"
   ]
  },
  {
   "cell_type": "code",
   "execution_count": 89,
   "metadata": {},
   "outputs": [
    {
     "name": "stdout",
     "output_type": "stream",
     "text": [
      "reading file Payslips Historical 21 axm.csv\n",
      "reading file Payslips Historical 21 io.csv\n",
      "reading file Payslips Historical 21 paye.csv\n",
      "reading file Payslips Historical 22 axm.csv\n",
      "reading file Payslips Historical 22 io.csv\n",
      "reading file Payslips Historical 22 paye.csv\n"
     ]
    }
   ],
   "source": [
    "payslips = pd.DataFrame([], columns = [\"CHQDATE\", \"PAYNO\", \"TSNO\", \"FORENAME\", \"SURNAME\", \"COMPNAME\", \"MANAGEMENT FEE\", \"PAYDESC\", \"TOTHRS\", \"TOTNET\", \"TOTPAY\", \"TYPE\", \"NI_NO\", \"Comp Fee Key\"])\n",
    "\n",
    "fee_codes = pd.read_csv(Path().home() / \"OneDrive - advance.online/Documents/data/fee codes.csv\")\n",
    "\n",
    "for file in Path().absolute().glob(\"*\"):\n",
    "    if file.name.__contains__(\"Payslips\") and file.suffix == \".csv\":\n",
    "        print(f\"reading file {file.name}\")\n",
    "        payslips = pd.concat([payslips, pd.read_csv(file, usecols=payslips.columns, encoding=\"latin\").dropna(subset=[\"MANAGEMENT FEE\"])])\n",
    "\n",
    "payslips = payslips.merge(fee_codes, left_on=\"Comp Fee Key\", right_on=\"Fee Type\", how=\"left\").drop(columns=\"Fee Type\")"
   ]
  },
  {
   "cell_type": "code",
   "execution_count": 90,
   "metadata": {},
   "outputs": [
    {
     "data": {
      "text/html": [
       "<div>\n",
       "<style scoped>\n",
       "    .dataframe tbody tr th:only-of-type {\n",
       "        vertical-align: middle;\n",
       "    }\n",
       "\n",
       "    .dataframe tbody tr th {\n",
       "        vertical-align: top;\n",
       "    }\n",
       "\n",
       "    .dataframe thead th {\n",
       "        text-align: right;\n",
       "    }\n",
       "</style>\n",
       "<table border=\"1\" class=\"dataframe\">\n",
       "  <thead>\n",
       "    <tr style=\"text-align: right;\">\n",
       "      <th></th>\n",
       "      <th>Fee Type</th>\n",
       "      <th>Value</th>\n",
       "    </tr>\n",
       "  </thead>\n",
       "  <tbody>\n",
       "    <tr>\n",
       "      <th>26</th>\n",
       "      <td>RSS1</td>\n",
       "      <td>formula</td>\n",
       "    </tr>\n",
       "    <tr>\n",
       "      <th>27</th>\n",
       "      <td>SCANT</td>\n",
       "      <td>formula</td>\n",
       "    </tr>\n",
       "    <tr>\n",
       "      <th>28</th>\n",
       "      <td>TENED</td>\n",
       "      <td>formula</td>\n",
       "    </tr>\n",
       "    <tr>\n",
       "      <th>30</th>\n",
       "      <td>EDU</td>\n",
       "      <td>formula</td>\n",
       "    </tr>\n",
       "    <tr>\n",
       "      <th>31</th>\n",
       "      <td>SCAT</td>\n",
       "      <td>formula</td>\n",
       "    </tr>\n",
       "    <tr>\n",
       "      <th>32</th>\n",
       "      <td>SCNPT</td>\n",
       "      <td>formula</td>\n",
       "    </tr>\n",
       "    <tr>\n",
       "      <th>33</th>\n",
       "      <td>TEN</td>\n",
       "      <td>formula</td>\n",
       "    </tr>\n",
       "    <tr>\n",
       "      <th>36</th>\n",
       "      <td>RSS</td>\n",
       "      <td>formula</td>\n",
       "    </tr>\n",
       "  </tbody>\n",
       "</table>\n",
       "</div>"
      ],
      "text/plain": [
       "   Fee Type    Value\n",
       "26     RSS1  formula\n",
       "27    SCANT  formula\n",
       "28    TENED  formula\n",
       "30      EDU  formula\n",
       "31     SCAT  formula\n",
       "32    SCNPT  formula\n",
       "33      TEN  formula\n",
       "36      RSS  formula"
      ]
     },
     "execution_count": 90,
     "metadata": {},
     "output_type": "execute_result"
    }
   ],
   "source": [
    "fee_codes[fee_codes[\"Value\"] == \"formula\"]"
   ]
  },
  {
   "cell_type": "code",
   "execution_count": 91,
   "metadata": {},
   "outputs": [],
   "source": [
    "for i, row in payslips.iterrows():\n",
    "    if pd.isnull(row[\"Value\"]):\n",
    "        payslips.at[i, \"Value\"] = float( row[\"Comp Fee Key\"].replace(\"£\", \"\").replace(\",\", \"\") )\n",
    "    elif row[\"Value\"] == \"formula\":\n",
    "        match row[\"Comp Fee Key\"]:\n",
    "            case \"RSS1\":   \n",
    "                if row[\"TOTHRS\"] <= 12:\n",
    "                    payslips.at[i, \"Value\"] = 6.9\n",
    "                elif row[\"TOTHRS\"] <= 16:\n",
    "                    payslips.at[i, \"Value\"] = 11.7\n",
    "                elif row[\"TOTHRS\"] <= 20:\n",
    "                    payslips.at[i, \"Value\"] = 11.95\n",
    "                elif row[\"TOTHRS\"] <= 24:\n",
    "                    payslips.at[i, \"Value\"] = 15.45\n",
    "                elif row[\"TOTHRS\"] <= 32:\n",
    "                    payslips.at[i, \"Value\"] = 18.45\n",
    "                elif row[\"TOTHRS\"] <= 40:\n",
    "                    payslips.at[i, \"Value\"] = 20.95\n",
    "                elif row[\"TOTHRS\"] <= 48:\n",
    "                    payslips.at[i, \"Value\"] = 23.45\n",
    "                elif row[\"TOTHRS\"] <= 55:\n",
    "                    payslips.at[i, \"Value\"] = 24.45\n",
    "                else:\n",
    "                    payslips.at[i, \"Value\"] = 26.95\n",
    "                    \n",
    "            case \"RSS\":\n",
    "                if row[\"TOTHRS\"] <= 12:\n",
    "                    payslips.at[i, \"Value\"] = 4.95\n",
    "                elif row[\"TOTHRS\"] <= 16:\n",
    "                    payslips.at[i, \"Value\"] = 9.75\n",
    "                elif row[\"TOTHRS\"] <= 20:\n",
    "                    payslips.at[i, \"Value\"] = 10\n",
    "                elif row[\"TOTHRS\"] <= 24:\n",
    "                    payslips.at[i, \"Value\"] = 13.5\n",
    "                elif row[\"TOTHRS\"] <= 32:\n",
    "                    payslips.at[i, \"Value\"] = 16.5\n",
    "                elif row[\"TOTHRS\"] <= 40:\n",
    "                    payslips.at[i, \"Value\"] = 19\n",
    "                elif row[\"TOTHRS\"] <= 48:\n",
    "                    payslips.at[i, \"Value\"] = 21.5\n",
    "                elif row[\"TOTHRS\"] <= 55:\n",
    "                    payslips.at[i, \"Value\"] = 22.5\n",
    "                else:\n",
    "                    payslips.at[i, \"Value\"] = 25\n",
    "                \n",
    "            case \"TENED\" | \"EDU\" | \"TEN\":\n",
    "                if row[\"TOTHRS\"] <= 6:\n",
    "                    payslips.at[i, \"Value\"] = 2.88\n",
    "                elif row[\"TOTHRS\"] <= 12:\n",
    "                    payslips.at[i, \"Value\"] = 5.76\n",
    "                elif row[\"TOTHRS\"] <= 18:\n",
    "                    payslips.at[i, \"Value\"] = 8.64\n",
    "                elif row[\"TOTHRS\"] <= 24:\n",
    "                    payslips.at[i, \"Value\"] = 11.52\n",
    "                else:\n",
    "                    payslips.at[i, \"Value\"] = 12\n",
    "            \n",
    "            case \"SCANT\" | \"SCNPT\":\n",
    "                payslips.at[i, \"Value\"] = 14 if row[\"TOTHRS\"] <= 24 else 26.90\n",
    "                \n",
    "            case \"SCAT\":\n",
    "                payslips.at[i, \"Value\"] = 14 if row[\"TOTHRS\"] <= 24 else 21.90\n",
    "                \n",
    "            case default:\n",
    "                print(rf\"Unhandled Fee Code {row['Comp Fee Key']}\")\n",
    "    \n",
    "    if row[\"MANAGEMENT FEE\"] > float(payslips.at[i, \"Value\"]) > 0:\n",
    "        \n",
    "        count = math.floor(row[\"MANAGEMENT FEE\"] / float(payslips.at[i, \"Value\"])) if row[\"MANAGEMENT FEE\"] >= 2*float(payslips.at[i, \"Value\"]) else 1\n",
    "        \n",
    "        payslips.at[i, \"Rewards\"] = row[\"MANAGEMENT FEE\"] - count*float(payslips.at[i, \"Value\"])\n",
    "\n",
    "    else:\n",
    "        payslips.at[i, \"Rewards\"] = 0\n",
    "            \n",
    "        "
   ]
  },
  {
   "cell_type": "code",
   "execution_count": 92,
   "metadata": {},
   "outputs": [],
   "source": [
    "payslips[\"Margin Count\"] = (payslips[\"MANAGEMENT FEE\"] - payslips[\"Rewards\"]) / payslips[\"Value\"].astype(float)"
   ]
  },
  {
   "cell_type": "code",
   "execution_count": 93,
   "metadata": {},
   "outputs": [
    {
     "name": "stdout",
     "output_type": "stream",
     "text": [
      "146864.4900000765\n"
     ]
    }
   ],
   "source": [
    "print(sum(payslips[\"Rewards\"]))"
   ]
  },
  {
   "cell_type": "code",
   "execution_count": 94,
   "metadata": {},
   "outputs": [],
   "source": [
    "payslips.to_csv(\"Rewards Margin.csv\", index=False)"
   ]
  }
 ],
 "metadata": {
  "kernelspec": {
   "display_name": "Python 3",
   "language": "python",
   "name": "python3"
  },
  "language_info": {
   "codemirror_mode": {
    "name": "ipython",
    "version": 3
   },
   "file_extension": ".py",
   "mimetype": "text/x-python",
   "name": "python",
   "nbconvert_exporter": "python",
   "pygments_lexer": "ipython3",
   "version": "3.10.6"
  },
  "orig_nbformat": 4,
  "vscode": {
   "interpreter": {
    "hash": "279ce501f1f11c78c4e7308f0164c129a0537d94206ab53b50ee4d53a2e3e522"
   }
  }
 },
 "nbformat": 4,
 "nbformat_minor": 2
}
